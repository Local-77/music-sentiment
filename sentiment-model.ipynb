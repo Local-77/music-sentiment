{
 "cells": [
  {
   "cell_type": "code",
   "execution_count": 2,
   "id": "b6ba27fd-affd-4008-8a7b-e2cd331c99d9",
   "metadata": {
    "ExecuteTime": {
     "end_time": "2023-11-21T02:22:19.916460700Z",
     "start_time": "2023-11-21T02:22:18.114444800Z"
    }
   },
   "outputs": [],
   "source": [
    "import pandas as pd\n",
    "from pathlib import Path\n",
    "import numpy as np\n",
    "import matplotlib.pyplot as plt\n",
    "import seaborn as sns\n",
    "from sklearn.model_selection import train_test_split\n",
    "from sklearn.feature_extraction.text import TfidfVectorizer\n",
    "from sklearn.metrics import accuracy_score, classification_report, confusion_matrix\n",
    "from sklearn.model_selection import GridSearchCV\n",
    "from pathlib import Path\n",
    "from nltk.corpus import stopwords\n",
    "from nltk.tokenize import word_tokenize\n",
    "from nltk.stem import WordNetLemmatizer \n",
    "from sklearn.linear_model import LogisticRegression"
   ]
  },
  {
   "cell_type": "code",
   "execution_count": 3,
   "id": "4c80c1de-4976-488b-aec9-f813f4d969e1",
   "metadata": {
    "ExecuteTime": {
     "end_time": "2023-11-21T02:24:13.387103100Z",
     "start_time": "2023-11-21T02:22:27.840124800Z"
    }
   },
   "outputs": [],
   "source": [
    "#! pip install pyarrow\n",
    "# ! pip install fastparquet\n",
    "filepath = Path(\"./song_lyrics.csv\")\n",
    "music = pd.read_csv(filepath)"
   ]
  },
  {
   "cell_type": "code",
   "execution_count": 5,
   "id": "bf27536f-1702-4433-a8a0-054236ac0998",
   "metadata": {
    "ExecuteTime": {
     "end_time": "2023-11-19T01:40:22.679968300Z",
     "start_time": "2023-11-19T01:40:22.646276700Z"
    }
   },
   "outputs": [
    {
     "data": {
      "text/plain": "               title  tag     artist  year   views  \\\n0          Killa Cam  rap    Cam'ron  2004  173166   \n1         Can I Live  rap      JAY-Z  1996  468624   \n2  Forgive Me Father  rap   Fabolous  2003    4743   \n3       Down and Out  rap    Cam'ron  2004  144404   \n4             Fly In  rap  Lil Wayne  2005   78271   \n\n                                       features  \\\n0                   {\"Cam\\\\'ron\",\"Opera Steve\"}   \n1                                            {}   \n2                                            {}   \n3  {\"Cam\\\\'ron\",\"Kanye West\",\"Syleena Johnson\"}   \n4                                            {}   \n\n                                              lyrics  id language_cld3  \\\n0  [Chorus: Opera Steve & Cam'ron]\\nKilla Cam, Ki...   1            en   \n1  [Produced by Irv Gotti]\\n\\n[Intro]\\nYeah, hah,...   3            en   \n2  Maybe cause I'm eatin\\nAnd these bastards fien...   4            en   \n3  [Produced by Kanye West and Brian Miller]\\n\\n[...   5            en   \n4  [Intro]\\nSo they ask me\\n\"Young boy\\nWhat you ...   6            en   \n\n  language_ft language  \n0          en       en  \n1          en       en  \n2          en       en  \n3          en       en  \n4          en       en  ",
      "text/html": "<div>\n<style scoped>\n    .dataframe tbody tr th:only-of-type {\n        vertical-align: middle;\n    }\n\n    .dataframe tbody tr th {\n        vertical-align: top;\n    }\n\n    .dataframe thead th {\n        text-align: right;\n    }\n</style>\n<table border=\"1\" class=\"dataframe\">\n  <thead>\n    <tr style=\"text-align: right;\">\n      <th></th>\n      <th>title</th>\n      <th>tag</th>\n      <th>artist</th>\n      <th>year</th>\n      <th>views</th>\n      <th>features</th>\n      <th>lyrics</th>\n      <th>id</th>\n      <th>language_cld3</th>\n      <th>language_ft</th>\n      <th>language</th>\n    </tr>\n  </thead>\n  <tbody>\n    <tr>\n      <th>0</th>\n      <td>Killa Cam</td>\n      <td>rap</td>\n      <td>Cam'ron</td>\n      <td>2004</td>\n      <td>173166</td>\n      <td>{\"Cam\\\\'ron\",\"Opera Steve\"}</td>\n      <td>[Chorus: Opera Steve &amp; Cam'ron]\\nKilla Cam, Ki...</td>\n      <td>1</td>\n      <td>en</td>\n      <td>en</td>\n      <td>en</td>\n    </tr>\n    <tr>\n      <th>1</th>\n      <td>Can I Live</td>\n      <td>rap</td>\n      <td>JAY-Z</td>\n      <td>1996</td>\n      <td>468624</td>\n      <td>{}</td>\n      <td>[Produced by Irv Gotti]\\n\\n[Intro]\\nYeah, hah,...</td>\n      <td>3</td>\n      <td>en</td>\n      <td>en</td>\n      <td>en</td>\n    </tr>\n    <tr>\n      <th>2</th>\n      <td>Forgive Me Father</td>\n      <td>rap</td>\n      <td>Fabolous</td>\n      <td>2003</td>\n      <td>4743</td>\n      <td>{}</td>\n      <td>Maybe cause I'm eatin\\nAnd these bastards fien...</td>\n      <td>4</td>\n      <td>en</td>\n      <td>en</td>\n      <td>en</td>\n    </tr>\n    <tr>\n      <th>3</th>\n      <td>Down and Out</td>\n      <td>rap</td>\n      <td>Cam'ron</td>\n      <td>2004</td>\n      <td>144404</td>\n      <td>{\"Cam\\\\'ron\",\"Kanye West\",\"Syleena Johnson\"}</td>\n      <td>[Produced by Kanye West and Brian Miller]\\n\\n[...</td>\n      <td>5</td>\n      <td>en</td>\n      <td>en</td>\n      <td>en</td>\n    </tr>\n    <tr>\n      <th>4</th>\n      <td>Fly In</td>\n      <td>rap</td>\n      <td>Lil Wayne</td>\n      <td>2005</td>\n      <td>78271</td>\n      <td>{}</td>\n      <td>[Intro]\\nSo they ask me\\n\"Young boy\\nWhat you ...</td>\n      <td>6</td>\n      <td>en</td>\n      <td>en</td>\n      <td>en</td>\n    </tr>\n  </tbody>\n</table>\n</div>"
     },
     "execution_count": 5,
     "metadata": {},
     "output_type": "execute_result"
    }
   ],
   "source": [
    "song = music.loc[music['id'] == .iloc[0]\n",
    "music.head()"
   ]
  },
  {
   "cell_type": "code",
   "execution_count": 4,
   "id": "a9982b34-d91f-4f0d-b78a-2bf911d0b810",
   "metadata": {
    "ExecuteTime": {
     "end_time": "2023-11-19T17:32:59.165403600Z",
     "start_time": "2023-11-19T17:32:58.628032200Z"
    }
   },
   "outputs": [
    {
     "data": {
      "text/plain": "                     title      tag                    artist  year   views  \\\n0                Killa Cam      rap                   Cam'ron  2004  173166   \n1               Can I Live      rap                     JAY-Z  1996  468624   \n2        Forgive Me Father      rap                  Fabolous  2003    4743   \n3             Down and Out      rap                   Cam'ron  2004  144404   \n4                   Fly In      rap                 Lil Wayne  2005   78271   \n...                    ...      ...                       ...   ...     ...   \n5134851              Ocean      pop                   Effemar  2022       3   \n5134852            64 Bars      rap                    Rapido  2022       4   \n5134853    Raise Our Hands      pop  Culture Code, Pag & Mylo  2016       3   \n5134854                CEO      rap               Antropolita  2022       5   \n5134855         New Number  country         Alana Springsteen  2022       1   \n\n                                                    lyrics       id  \n0        [Chorus: Opera Steve & Cam'ron]\\nKilla Cam, Ki...        1  \n1        [Produced by Irv Gotti]\\n\\n[Intro]\\nYeah, hah,...        3  \n2        Maybe cause I'm eatin\\nAnd these bastards fien...        4  \n3        [Produced by Kanye West and Brian Miller]\\n\\n[...        5  \n4        [Intro]\\nSo they ask me\\n\"Young boy\\nWhat you ...        6  \n...                                                    ...      ...  \n5134851  [Verse 1]\\nDance for me now\\nKeeping yourself ...  7882842  \n5134852  [Intro]\\n\\nJa, ja\\n\\n[Part 1]\\n\\nR-A-H, Merhab...  7882843  \n5134853  [Verse 1]\\nHere our purpose feels alive\\nWe ar...  7882845  \n5134854  Jestem CEO w tym\\nTo jara twoją bitch\\nNikt na...  7882846  \n5134855  [Verse 1]\\nYou need a new number, one that ain...  7882848  \n\n[5134856 rows x 7 columns]",
      "text/html": "<div>\n<style scoped>\n    .dataframe tbody tr th:only-of-type {\n        vertical-align: middle;\n    }\n\n    .dataframe tbody tr th {\n        vertical-align: top;\n    }\n\n    .dataframe thead th {\n        text-align: right;\n    }\n</style>\n<table border=\"1\" class=\"dataframe\">\n  <thead>\n    <tr style=\"text-align: right;\">\n      <th></th>\n      <th>title</th>\n      <th>tag</th>\n      <th>artist</th>\n      <th>year</th>\n      <th>views</th>\n      <th>lyrics</th>\n      <th>id</th>\n    </tr>\n  </thead>\n  <tbody>\n    <tr>\n      <th>0</th>\n      <td>Killa Cam</td>\n      <td>rap</td>\n      <td>Cam'ron</td>\n      <td>2004</td>\n      <td>173166</td>\n      <td>[Chorus: Opera Steve &amp; Cam'ron]\\nKilla Cam, Ki...</td>\n      <td>1</td>\n    </tr>\n    <tr>\n      <th>1</th>\n      <td>Can I Live</td>\n      <td>rap</td>\n      <td>JAY-Z</td>\n      <td>1996</td>\n      <td>468624</td>\n      <td>[Produced by Irv Gotti]\\n\\n[Intro]\\nYeah, hah,...</td>\n      <td>3</td>\n    </tr>\n    <tr>\n      <th>2</th>\n      <td>Forgive Me Father</td>\n      <td>rap</td>\n      <td>Fabolous</td>\n      <td>2003</td>\n      <td>4743</td>\n      <td>Maybe cause I'm eatin\\nAnd these bastards fien...</td>\n      <td>4</td>\n    </tr>\n    <tr>\n      <th>3</th>\n      <td>Down and Out</td>\n      <td>rap</td>\n      <td>Cam'ron</td>\n      <td>2004</td>\n      <td>144404</td>\n      <td>[Produced by Kanye West and Brian Miller]\\n\\n[...</td>\n      <td>5</td>\n    </tr>\n    <tr>\n      <th>4</th>\n      <td>Fly In</td>\n      <td>rap</td>\n      <td>Lil Wayne</td>\n      <td>2005</td>\n      <td>78271</td>\n      <td>[Intro]\\nSo they ask me\\n\"Young boy\\nWhat you ...</td>\n      <td>6</td>\n    </tr>\n    <tr>\n      <th>...</th>\n      <td>...</td>\n      <td>...</td>\n      <td>...</td>\n      <td>...</td>\n      <td>...</td>\n      <td>...</td>\n      <td>...</td>\n    </tr>\n    <tr>\n      <th>5134851</th>\n      <td>Ocean</td>\n      <td>pop</td>\n      <td>Effemar</td>\n      <td>2022</td>\n      <td>3</td>\n      <td>[Verse 1]\\nDance for me now\\nKeeping yourself ...</td>\n      <td>7882842</td>\n    </tr>\n    <tr>\n      <th>5134852</th>\n      <td>64 Bars</td>\n      <td>rap</td>\n      <td>Rapido</td>\n      <td>2022</td>\n      <td>4</td>\n      <td>[Intro]\\n\\nJa, ja\\n\\n[Part 1]\\n\\nR-A-H, Merhab...</td>\n      <td>7882843</td>\n    </tr>\n    <tr>\n      <th>5134853</th>\n      <td>Raise Our Hands</td>\n      <td>pop</td>\n      <td>Culture Code, Pag &amp; Mylo</td>\n      <td>2016</td>\n      <td>3</td>\n      <td>[Verse 1]\\nHere our purpose feels alive\\nWe ar...</td>\n      <td>7882845</td>\n    </tr>\n    <tr>\n      <th>5134854</th>\n      <td>CEO</td>\n      <td>rap</td>\n      <td>Antropolita</td>\n      <td>2022</td>\n      <td>5</td>\n      <td>Jestem CEO w tym\\nTo jara twoją bitch\\nNikt na...</td>\n      <td>7882846</td>\n    </tr>\n    <tr>\n      <th>5134855</th>\n      <td>New Number</td>\n      <td>country</td>\n      <td>Alana Springsteen</td>\n      <td>2022</td>\n      <td>1</td>\n      <td>[Verse 1]\\nYou need a new number, one that ain...</td>\n      <td>7882848</td>\n    </tr>\n  </tbody>\n</table>\n<p>5134856 rows × 7 columns</p>\n</div>"
     },
     "execution_count": 4,
     "metadata": {},
     "output_type": "execute_result"
    }
   ],
   "source": [
    "music = music[['title', 'tag', 'artist', 'year', 'views', 'lyrics', 'id']]\n",
    "music "
   ]
  },
  {
   "cell_type": "code",
   "execution_count": 7,
   "id": "5038117e-8fa0-4e76-90c7-bfbb78807cf7",
   "metadata": {
    "ExecuteTime": {
     "end_time": "2023-11-18T23:52:16.049006100Z",
     "start_time": "2023-11-18T23:52:16.026582900Z"
    }
   },
   "outputs": [
    {
     "data": {
      "text/plain": "tag\npop        32\nrap        28\nrock       19\nmisc       12\ncountry     5\nrb          4\nName: count, dtype: int64"
     },
     "execution_count": 7,
     "metadata": {},
     "output_type": "execute_result"
    }
   ],
   "source": [
    "# what different genres are we dealing with\n",
    "music['tag'].value_counts()"
   ]
  },
  {
   "cell_type": "code",
   "execution_count": 5,
   "id": "6c5ac341-2e4f-48d0-955d-b3e5339e782d",
   "metadata": {
    "ExecuteTime": {
     "end_time": "2023-11-19T17:33:15.007956200Z",
     "start_time": "2023-11-19T17:33:14.099625100Z"
    }
   },
   "outputs": [
    {
     "data": {
      "text/plain": "title     188\ntag         0\nartist      0\nyear        0\nviews       0\nlyrics      0\nid          0\ndtype: int64"
     },
     "execution_count": 5,
     "metadata": {},
     "output_type": "execute_result"
    }
   ],
   "source": [
    "# how many nulls?\n",
    "music.isnull().sum()"
   ]
  },
  {
   "cell_type": "code",
   "execution_count": 6,
   "id": "df60496d-701b-42fe-a0cf-f50be0a9346a",
   "metadata": {
    "ExecuteTime": {
     "end_time": "2023-11-19T17:33:16.200110200Z",
     "start_time": "2023-11-19T17:33:15.830564Z"
    }
   },
   "outputs": [],
   "source": [
    "#the dataset looks pretty clean, let's just drop those 24 null title songs\n",
    "music = music.dropna()"
   ]
  },
  {
   "cell_type": "code",
   "execution_count": 7,
   "id": "deeade18-90c1-4260-b885-9faf424f9793",
   "metadata": {
    "ExecuteTime": {
     "end_time": "2023-11-19T17:33:16.223168900Z",
     "start_time": "2023-11-19T17:33:16.203112800Z"
    }
   },
   "outputs": [],
   "source": [
    "# set the index to ID\n",
    "music.set_index(['id'], inplace=True)"
   ]
  },
  {
   "cell_type": "code",
   "execution_count": 11,
   "id": "d26ae0e3-40fd-48a4-a895-392d06b3819d",
   "metadata": {
    "ExecuteTime": {
     "end_time": "2023-11-18T23:56:21.971046700Z",
     "start_time": "2023-11-18T23:56:21.965329500Z"
    }
   },
   "outputs": [
    {
     "data": {
      "text/plain": "                                                     title      tag  \\\nid                                                                    \n7318468                                         Little Mix      rap   \n993107                     See That My Grave Is Kept Clean      pop   \n5248486                                             Mimosa      rap   \n1596001                                  Mistakes Are Mine      pop   \n5341666                                          LUV HURTS      rap   \n...                                                    ...      ...   \n2476248                                  Train to Eternity     rock   \n5977558                                          FICTIONAL      rap   \n670981   EssentialSkillz and 4see Ltd release UKATA Cer...     misc   \n3249893                                          Rope Burn     misc   \n323337                                        Devil to Pay  country   \n\n               artist  year  views  \\\nid                                   \n7318468        T.Scam  2021   3396   \n993107      B.B. King  2008    903   \n5248486  Avatar Frost  2020     23   \n1596001        Should  2014    113   \n5341666      Jusanity  2020     19   \n...               ...   ...    ...   \n2476248    Tiger Army  2016   1625   \n5977558      Lil Joof  2020     85   \n670981     Greg Micyk  2015      8   \n3249893   Damaged Bug  2014    345   \n323337    Johnny Cash  1970   1210   \n\n                                                    lyrics language  \nid                                                                   \n7318468  [Intro]\\n(Mikey)\\nSmokin' on 'em\\nSuwoo\\n(Gang...       en  \n993107   Well, there's one kind favor I'll ask of you\\n...       en  \n5248486  [Verse 1]\\nHere comes the monster, the beast, ...       en  \n1596001  I stayed awake that night and swore You’d be i...       en  \n5341666  [Intro]\\nLUV HURTS\\nYeah\\n\\n[Hook]\\nWhy you al...       en  \n...                                                    ...      ...  \n2476248  [Verse 1]\\nI left the station many years ago\\n...       en  \n5977558  [Hook: Lil Joof]\\nI like my girls fictional, Y...       en  \n670981   Global eLearning provider EssentialSkillz and ...       en  \n3249893  I'll drive a spike into your vein\\nYou feel yo...       en  \n323337   [Verse 1]\\nGo on girl take your chances\\nSee h...       en  \n\n[100 rows x 7 columns]",
      "text/html": "<div>\n<style scoped>\n    .dataframe tbody tr th:only-of-type {\n        vertical-align: middle;\n    }\n\n    .dataframe tbody tr th {\n        vertical-align: top;\n    }\n\n    .dataframe thead th {\n        text-align: right;\n    }\n</style>\n<table border=\"1\" class=\"dataframe\">\n  <thead>\n    <tr style=\"text-align: right;\">\n      <th></th>\n      <th>title</th>\n      <th>tag</th>\n      <th>artist</th>\n      <th>year</th>\n      <th>views</th>\n      <th>lyrics</th>\n      <th>language</th>\n    </tr>\n    <tr>\n      <th>id</th>\n      <th></th>\n      <th></th>\n      <th></th>\n      <th></th>\n      <th></th>\n      <th></th>\n      <th></th>\n    </tr>\n  </thead>\n  <tbody>\n    <tr>\n      <th>7318468</th>\n      <td>Little Mix</td>\n      <td>rap</td>\n      <td>T.Scam</td>\n      <td>2021</td>\n      <td>3396</td>\n      <td>[Intro]\\n(Mikey)\\nSmokin' on 'em\\nSuwoo\\n(Gang...</td>\n      <td>en</td>\n    </tr>\n    <tr>\n      <th>993107</th>\n      <td>See That My Grave Is Kept Clean</td>\n      <td>pop</td>\n      <td>B.B. King</td>\n      <td>2008</td>\n      <td>903</td>\n      <td>Well, there's one kind favor I'll ask of you\\n...</td>\n      <td>en</td>\n    </tr>\n    <tr>\n      <th>5248486</th>\n      <td>Mimosa</td>\n      <td>rap</td>\n      <td>Avatar Frost</td>\n      <td>2020</td>\n      <td>23</td>\n      <td>[Verse 1]\\nHere comes the monster, the beast, ...</td>\n      <td>en</td>\n    </tr>\n    <tr>\n      <th>1596001</th>\n      <td>Mistakes Are Mine</td>\n      <td>pop</td>\n      <td>Should</td>\n      <td>2014</td>\n      <td>113</td>\n      <td>I stayed awake that night and swore You’d be i...</td>\n      <td>en</td>\n    </tr>\n    <tr>\n      <th>5341666</th>\n      <td>LUV HURTS</td>\n      <td>rap</td>\n      <td>Jusanity</td>\n      <td>2020</td>\n      <td>19</td>\n      <td>[Intro]\\nLUV HURTS\\nYeah\\n\\n[Hook]\\nWhy you al...</td>\n      <td>en</td>\n    </tr>\n    <tr>\n      <th>...</th>\n      <td>...</td>\n      <td>...</td>\n      <td>...</td>\n      <td>...</td>\n      <td>...</td>\n      <td>...</td>\n      <td>...</td>\n    </tr>\n    <tr>\n      <th>2476248</th>\n      <td>Train to Eternity</td>\n      <td>rock</td>\n      <td>Tiger Army</td>\n      <td>2016</td>\n      <td>1625</td>\n      <td>[Verse 1]\\nI left the station many years ago\\n...</td>\n      <td>en</td>\n    </tr>\n    <tr>\n      <th>5977558</th>\n      <td>FICTIONAL</td>\n      <td>rap</td>\n      <td>Lil Joof</td>\n      <td>2020</td>\n      <td>85</td>\n      <td>[Hook: Lil Joof]\\nI like my girls fictional, Y...</td>\n      <td>en</td>\n    </tr>\n    <tr>\n      <th>670981</th>\n      <td>EssentialSkillz and 4see Ltd release UKATA Cer...</td>\n      <td>misc</td>\n      <td>Greg Micyk</td>\n      <td>2015</td>\n      <td>8</td>\n      <td>Global eLearning provider EssentialSkillz and ...</td>\n      <td>en</td>\n    </tr>\n    <tr>\n      <th>3249893</th>\n      <td>Rope Burn</td>\n      <td>misc</td>\n      <td>Damaged Bug</td>\n      <td>2014</td>\n      <td>345</td>\n      <td>I'll drive a spike into your vein\\nYou feel yo...</td>\n      <td>en</td>\n    </tr>\n    <tr>\n      <th>323337</th>\n      <td>Devil to Pay</td>\n      <td>country</td>\n      <td>Johnny Cash</td>\n      <td>1970</td>\n      <td>1210</td>\n      <td>[Verse 1]\\nGo on girl take your chances\\nSee h...</td>\n      <td>en</td>\n    </tr>\n  </tbody>\n</table>\n<p>100 rows × 7 columns</p>\n</div>"
     },
     "execution_count": 11,
     "metadata": {},
     "output_type": "execute_result"
    }
   ],
   "source": [
    "music"
   ]
  },
  {
   "cell_type": "code",
   "execution_count": 8,
   "outputs": [],
   "source": [
    "import torch\n",
    "\n",
    "torch.cuda.is_available()\n",
    "device = 0 if torch.cuda.is_available() else -1"
   ],
   "metadata": {
    "collapsed": false,
    "ExecuteTime": {
     "end_time": "2023-11-19T17:33:24.733784400Z",
     "start_time": "2023-11-19T17:33:20.411535900Z"
    }
   },
   "id": "43079bc806981a84"
  },
  {
   "cell_type": "code",
   "execution_count": 9,
   "id": "b8a9dcb1-805a-432b-b523-0dbc8f1712f0",
   "metadata": {
    "ExecuteTime": {
     "end_time": "2023-11-19T17:33:31.270221200Z",
     "start_time": "2023-11-19T17:33:24.737786Z"
    }
   },
   "outputs": [
    {
     "name": "stderr",
     "output_type": "stream",
     "text": [
      "C:\\Users\\drew1\\.conda\\envs\\cuda\\Lib\\site-packages\\transformers\\pipelines\\text_classification.py:105: UserWarning: `return_all_scores` is now deprecated,  if want a similar functionality use `top_k=None` instead of `return_all_scores=True` or `top_k=1` instead of `return_all_scores=False`.\n",
      "  warnings.warn(\n"
     ]
    }
   ],
   "source": [
    "#import the model we plan on using\n",
    "#! pip install transformers\n",
    "from transformers import pipeline\n",
    "\n",
    "distilled_student_sentiment_classifier = pipeline(\n",
    "    model=\"lxyuan/distilbert-base-multilingual-cased-sentiments-student\", \n",
    "    return_all_scores=True, truncation=True, device=device\n",
    ")"
   ]
  },
  {
   "cell_type": "code",
   "execution_count": 29,
   "id": "e2e5785b-6e65-45e8-a88b-a7ecc62d7712",
   "metadata": {
    "ExecuteTime": {
     "end_time": "2023-11-19T01:02:11.231936600Z",
     "start_time": "2023-11-19T01:02:11.226422100Z"
    }
   },
   "outputs": [],
   "source": [
    "music_sample = music"
   ]
  },
  {
   "cell_type": "code",
   "execution_count": 23,
   "id": "fa0b0d48-2350-4dab-836f-874e41aa45d5",
   "metadata": {
    "ExecuteTime": {
     "end_time": "2023-11-19T00:53:48.324287900Z",
     "start_time": "2023-11-19T00:53:47.048506100Z"
    }
   },
   "outputs": [
    {
     "name": "stderr",
     "output_type": "stream",
     "text": [
      "C:\\Users\\drew1\\.conda\\envs\\cuda\\Lib\\site-packages\\transformers\\pipelines\\base.py:1090: UserWarning: You seem to be using the pipelines sequentially on GPU. In order to maximize efficiency please use a dataset\n",
      "  warnings.warn(\n"
     ]
    }
   ],
   "source": [
    "\n",
    "def sentiment(lyrics):\n",
    "    scores = distilled_student_sentiment_classifier(lyrics)\n",
    "    pos_score = scores[0][0]['score']\n",
    "    neu_score = scores[0][1]['score']\n",
    "    neg_score = scores[0][2]['score']\n",
    "    return pos_score, neg_score, neu_score\n",
    "music['Positive'],  music['Negative'], music['Neutral'] = zip(*music['lyrics'].apply(sentiment))"
   ]
  },
  {
   "cell_type": "code",
   "execution_count": 32,
   "outputs": [
    {
     "data": {
      "text/plain": "                                                     title      tag  \\\nid                                                                    \n7318468                                         Little Mix      rap   \n993107                     See That My Grave Is Kept Clean      pop   \n5248486                                             Mimosa      rap   \n1596001                                  Mistakes Are Mine      pop   \n5341666                                          LUV HURTS      rap   \n...                                                    ...      ...   \n2476248                                  Train to Eternity     rock   \n5977558                                          FICTIONAL      rap   \n670981   EssentialSkillz and 4see Ltd release UKATA Cer...     misc   \n3249893                                          Rope Burn     misc   \n323337                                        Devil to Pay  country   \n\n               artist  year  views  \\\nid                                   \n7318468        T.Scam  2021   3396   \n993107      B.B. King  2008    903   \n5248486  Avatar Frost  2020     23   \n1596001        Should  2014    113   \n5341666      Jusanity  2020     19   \n...               ...   ...    ...   \n2476248    Tiger Army  2016   1625   \n5977558      Lil Joof  2020     85   \n670981     Greg Micyk  2015      8   \n3249893   Damaged Bug  2014    345   \n323337    Johnny Cash  1970   1210   \n\n                                                    lyrics language  Positive  \\\nid                                                                              \n7318468  [Intro]\\n(Mikey)\\nSmokin' on 'em\\nSuwoo\\n(Gang...       en  0.164948   \n993107   Well, there's one kind favor I'll ask of you\\n...       en  0.262436   \n5248486  [Verse 1]\\nHere comes the monster, the beast, ...       en  0.275367   \n1596001  I stayed awake that night and swore You’d be i...       en  0.081622   \n5341666  [Intro]\\nLUV HURTS\\nYeah\\n\\n[Hook]\\nWhy you al...       en  0.328744   \n...                                                    ...      ...       ...   \n2476248  [Verse 1]\\nI left the station many years ago\\n...       en  0.584043   \n5977558  [Hook: Lil Joof]\\nI like my girls fictional, Y...       en  0.101416   \n670981   Global eLearning provider EssentialSkillz and ...       en  0.863000   \n3249893  I'll drive a spike into your vein\\nYou feel yo...       en  0.345537   \n323337   [Verse 1]\\nGo on girl take your chances\\nSee h...       en  0.288059   \n\n         Negative   Neutral  \nid                           \n7318468  0.656215  0.178837  \n993107   0.624318  0.113246  \n5248486  0.576875  0.147758  \n1596001  0.763085  0.155293  \n5341666  0.515121  0.156135  \n...           ...       ...  \n2476248  0.269613  0.146344  \n5977558  0.826224  0.072360  \n670981   0.053423  0.083577  \n3249893  0.475109  0.179354  \n323337   0.573099  0.138842  \n\n[100 rows x 10 columns]",
      "text/html": "<div>\n<style scoped>\n    .dataframe tbody tr th:only-of-type {\n        vertical-align: middle;\n    }\n\n    .dataframe tbody tr th {\n        vertical-align: top;\n    }\n\n    .dataframe thead th {\n        text-align: right;\n    }\n</style>\n<table border=\"1\" class=\"dataframe\">\n  <thead>\n    <tr style=\"text-align: right;\">\n      <th></th>\n      <th>title</th>\n      <th>tag</th>\n      <th>artist</th>\n      <th>year</th>\n      <th>views</th>\n      <th>lyrics</th>\n      <th>language</th>\n      <th>Positive</th>\n      <th>Negative</th>\n      <th>Neutral</th>\n    </tr>\n    <tr>\n      <th>id</th>\n      <th></th>\n      <th></th>\n      <th></th>\n      <th></th>\n      <th></th>\n      <th></th>\n      <th></th>\n      <th></th>\n      <th></th>\n      <th></th>\n    </tr>\n  </thead>\n  <tbody>\n    <tr>\n      <th>7318468</th>\n      <td>Little Mix</td>\n      <td>rap</td>\n      <td>T.Scam</td>\n      <td>2021</td>\n      <td>3396</td>\n      <td>[Intro]\\n(Mikey)\\nSmokin' on 'em\\nSuwoo\\n(Gang...</td>\n      <td>en</td>\n      <td>0.164948</td>\n      <td>0.656215</td>\n      <td>0.178837</td>\n    </tr>\n    <tr>\n      <th>993107</th>\n      <td>See That My Grave Is Kept Clean</td>\n      <td>pop</td>\n      <td>B.B. King</td>\n      <td>2008</td>\n      <td>903</td>\n      <td>Well, there's one kind favor I'll ask of you\\n...</td>\n      <td>en</td>\n      <td>0.262436</td>\n      <td>0.624318</td>\n      <td>0.113246</td>\n    </tr>\n    <tr>\n      <th>5248486</th>\n      <td>Mimosa</td>\n      <td>rap</td>\n      <td>Avatar Frost</td>\n      <td>2020</td>\n      <td>23</td>\n      <td>[Verse 1]\\nHere comes the monster, the beast, ...</td>\n      <td>en</td>\n      <td>0.275367</td>\n      <td>0.576875</td>\n      <td>0.147758</td>\n    </tr>\n    <tr>\n      <th>1596001</th>\n      <td>Mistakes Are Mine</td>\n      <td>pop</td>\n      <td>Should</td>\n      <td>2014</td>\n      <td>113</td>\n      <td>I stayed awake that night and swore You’d be i...</td>\n      <td>en</td>\n      <td>0.081622</td>\n      <td>0.763085</td>\n      <td>0.155293</td>\n    </tr>\n    <tr>\n      <th>5341666</th>\n      <td>LUV HURTS</td>\n      <td>rap</td>\n      <td>Jusanity</td>\n      <td>2020</td>\n      <td>19</td>\n      <td>[Intro]\\nLUV HURTS\\nYeah\\n\\n[Hook]\\nWhy you al...</td>\n      <td>en</td>\n      <td>0.328744</td>\n      <td>0.515121</td>\n      <td>0.156135</td>\n    </tr>\n    <tr>\n      <th>...</th>\n      <td>...</td>\n      <td>...</td>\n      <td>...</td>\n      <td>...</td>\n      <td>...</td>\n      <td>...</td>\n      <td>...</td>\n      <td>...</td>\n      <td>...</td>\n      <td>...</td>\n    </tr>\n    <tr>\n      <th>2476248</th>\n      <td>Train to Eternity</td>\n      <td>rock</td>\n      <td>Tiger Army</td>\n      <td>2016</td>\n      <td>1625</td>\n      <td>[Verse 1]\\nI left the station many years ago\\n...</td>\n      <td>en</td>\n      <td>0.584043</td>\n      <td>0.269613</td>\n      <td>0.146344</td>\n    </tr>\n    <tr>\n      <th>5977558</th>\n      <td>FICTIONAL</td>\n      <td>rap</td>\n      <td>Lil Joof</td>\n      <td>2020</td>\n      <td>85</td>\n      <td>[Hook: Lil Joof]\\nI like my girls fictional, Y...</td>\n      <td>en</td>\n      <td>0.101416</td>\n      <td>0.826224</td>\n      <td>0.072360</td>\n    </tr>\n    <tr>\n      <th>670981</th>\n      <td>EssentialSkillz and 4see Ltd release UKATA Cer...</td>\n      <td>misc</td>\n      <td>Greg Micyk</td>\n      <td>2015</td>\n      <td>8</td>\n      <td>Global eLearning provider EssentialSkillz and ...</td>\n      <td>en</td>\n      <td>0.863000</td>\n      <td>0.053423</td>\n      <td>0.083577</td>\n    </tr>\n    <tr>\n      <th>3249893</th>\n      <td>Rope Burn</td>\n      <td>misc</td>\n      <td>Damaged Bug</td>\n      <td>2014</td>\n      <td>345</td>\n      <td>I'll drive a spike into your vein\\nYou feel yo...</td>\n      <td>en</td>\n      <td>0.345537</td>\n      <td>0.475109</td>\n      <td>0.179354</td>\n    </tr>\n    <tr>\n      <th>323337</th>\n      <td>Devil to Pay</td>\n      <td>country</td>\n      <td>Johnny Cash</td>\n      <td>1970</td>\n      <td>1210</td>\n      <td>[Verse 1]\\nGo on girl take your chances\\nSee h...</td>\n      <td>en</td>\n      <td>0.288059</td>\n      <td>0.573099</td>\n      <td>0.138842</td>\n    </tr>\n  </tbody>\n</table>\n<p>100 rows × 10 columns</p>\n</div>"
     },
     "execution_count": 32,
     "metadata": {},
     "output_type": "execute_result"
    }
   ],
   "source": [
    "music"
   ],
   "metadata": {
    "collapsed": false,
    "ExecuteTime": {
     "end_time": "2023-11-19T01:03:55.133886500Z",
     "start_time": "2023-11-19T01:03:55.118939100Z"
    }
   },
   "id": "4ed50fd356f3b453"
  },
  {
   "cell_type": "code",
   "execution_count": 11,
   "outputs": [
    {
     "data": {
      "text/plain": "839869"
     },
     "execution_count": 11,
     "metadata": {},
     "output_type": "execute_result"
    }
   ],
   "source": [
    "music = music[music['views'] > 1000]\n",
    "len(music)"
   ],
   "metadata": {
    "collapsed": false,
    "ExecuteTime": {
     "end_time": "2023-11-19T17:34:35.041175600Z",
     "start_time": "2023-11-19T17:34:34.816614500Z"
    }
   },
   "id": "b13dd91b0053106e"
  },
  {
   "cell_type": "code",
   "execution_count": 12,
   "outputs": [
    {
     "data": {
      "text/plain": "  0%|          | 0/104983 [00:00<?, ?it/s]",
      "application/vnd.jupyter.widget-view+json": {
       "version_major": 2,
       "version_minor": 0,
       "model_id": "8c05d390e82e470896e392417911cb9a"
      }
     },
     "metadata": {},
     "output_type": "display_data"
    }
   ],
   "source": [
    "from transformers import pipeline\n",
    "from transformers.pipelines.pt_utils import KeyDataset\n",
    "from datasets import Dataset\n",
    "import pandas as pd\n",
    "from tqdm.auto import tqdm  # Import tqdm for the progress bar\n",
    "\n",
    "# Assuming distilled_student_sentiment_classifier is already defined and using GPU (device=0)\n",
    "pipe = distilled_student_sentiment_classifier\n",
    "\n",
    "# Convert your DataFrame column to a dataset\n",
    "dataset = Dataset.from_pandas(music)\n",
    "\n",
    "lyrics_dataset = KeyDataset(dataset, 'lyrics')\n",
    "\n",
    "# # # Process the data in batches\n",
    "results = []\n",
    "for out in tqdm(pipe(lyrics_dataset, batch_size=8, truncation=True), total=len(lyrics_dataset)//8):\n",
    "    pos_score = out[0]['score']\n",
    "    neu_score = out[1]['score']\n",
    "    neg_score = out[2]['score']\n",
    "    results.append((pos_score, neg_score, neu_score))\n",
    "# \n",
    "# # Unpack results into the DataFrame\n",
    "music['Positive'], music['Negative'], music['Neutral'] = zip(*results)\n",
    "music.to_csv('output.csv', index=False)"
   ],
   "metadata": {
    "collapsed": false,
    "ExecuteTime": {
     "end_time": "2023-11-19T20:12:17.463439700Z",
     "start_time": "2023-11-19T17:35:04.255623300Z"
    }
   },
   "id": "daf24ff285c42bc5"
  },
  {
   "cell_type": "code",
   "execution_count": 14,
   "id": "b2e3ad74-6b48-48fc-9fa3-e4bbc91a3c8f",
   "metadata": {
    "ExecuteTime": {
     "end_time": "2023-11-19T21:50:55.642235800Z",
     "start_time": "2023-11-19T21:50:55.613917600Z"
    }
   },
   "outputs": [
    {
     "data": {
      "text/plain": "title                                    Shite Being Scottish\ntag                                                      misc\nartist                                            Danny Boyle\nyear                                                     1996\nviews                                                   18886\nlyrics      [Rent-Boy]\\nIt's shite being Scottish!\\nWe're ...\nPositive                                             0.006705\nNegative                                              0.98341\nNeutral                                              0.009885\nName: 230502, dtype: object"
     },
     "execution_count": 14,
     "metadata": {},
     "output_type": "execute_result"
    }
   ],
   "source": [
    "most_positive = music.loc[music['Negative'].idxmax()]\n",
    "most_positive"
   ]
  },
  {
   "cell_type": "code",
   "execution_count": null,
   "id": "31b39c55-bff5-43a1-8d74-6786f79ffa93",
   "metadata": {
    "ExecuteTime": {
     "start_time": "2023-11-18T23:42:59.587084300Z"
    }
   },
   "outputs": [],
   "source": []
  }
 ],
 "metadata": {
  "kernelspec": {
   "display_name": "Python 3 (ipykernel)",
   "language": "python",
   "name": "python3"
  },
  "language_info": {
   "codemirror_mode": {
    "name": "ipython",
    "version": 3
   },
   "file_extension": ".py",
   "mimetype": "text/x-python",
   "name": "python",
   "nbconvert_exporter": "python",
   "pygments_lexer": "ipython3",
   "version": "3.7.13"
  }
 },
 "nbformat": 4,
 "nbformat_minor": 5
}
