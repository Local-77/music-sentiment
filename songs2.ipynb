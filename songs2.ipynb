{
 "cells": [
  {
   "cell_type": "code",
   "execution_count": 1,
   "id": "153de486-9ec2-4435-a5bb-7038b526da09",
   "metadata": {
    "ExecuteTime": {
     "end_time": "2023-11-22T02:01:35.852996300Z",
     "start_time": "2023-11-22T02:01:35.288054Z"
    }
   },
   "outputs": [],
   "source": [
    "import pandas as pd\n",
    "from pathlib import Path"
   ]
  },
  {
   "cell_type": "code",
   "execution_count": 2,
   "id": "22386363-5135-4ec8-bf27-4155f93f4ca9",
   "metadata": {
    "ExecuteTime": {
     "end_time": "2023-11-22T02:02:00.520393100Z",
     "start_time": "2023-11-22T02:01:36.619880800Z"
    }
   },
   "outputs": [
    {
     "name": "stdout",
     "output_type": "stream",
     "text": [
      "               title  tag     artist  year   views  \\\n",
      "0          Killa Cam  rap    Cam'ron  2004  173166   \n",
      "1         Can I Live  rap      JAY-Z  1996  468624   \n",
      "2  Forgive Me Father  rap   Fabolous  2003    4743   \n",
      "3       Down and Out  rap    Cam'ron  2004  144404   \n",
      "4             Fly In  rap  Lil Wayne  2005   78271   \n",
      "\n",
      "                                              lyrics  Positive  Negative  \\\n",
      "0  [Chorus: Opera Steve & Cam'ron]\\nKilla Cam, Ki...  0.268202  0.620502   \n",
      "1  [Produced by Irv Gotti]\\n\\n[Intro]\\nYeah, hah,...  0.158539  0.744684   \n",
      "2  Maybe cause I'm eatin\\nAnd these bastards fien...  0.221860  0.653244   \n",
      "3  [Produced by Kanye West and Brian Miller]\\n\\n[...  0.182553  0.719833   \n",
      "4  [Intro]\\nSo they ask me\\n\"Young boy\\nWhat you ...  0.113128  0.767366   \n",
      "\n",
      "    Neutral  \n",
      "0  0.111296  \n",
      "1  0.096777  \n",
      "2  0.124896  \n",
      "3  0.097614  \n",
      "4  0.119506  \n"
     ]
    }
   ],
   "source": [
    "df = pd.read_csv('output.csv')\n",
    "\n",
    "print(df.head())"
   ]
  },
  {
   "cell_type": "code",
   "execution_count": 5,
   "id": "ab0bbe18-360c-4f44-b1a4-712ba8dda057",
   "metadata": {
    "ExecuteTime": {
     "end_time": "2023-11-22T02:03:05.512164300Z",
     "start_time": "2023-11-22T02:03:04.340830700Z"
    }
   },
   "outputs": [],
   "source": [
    "sorted_df = df.sort_values(by=['Positive', 'views'], ascending=[False,False])"
   ]
  },
  {
   "cell_type": "code",
   "execution_count": 6,
   "id": "58b9b1af-3dba-4103-bc89-e84419f5904e",
   "metadata": {
    "ExecuteTime": {
     "end_time": "2023-11-22T02:03:54.032725300Z",
     "start_time": "2023-11-22T02:03:06.153950900Z"
    }
   },
   "outputs": [],
   "source": [
    "sorted_df.to_csv(\"output.csv\")"
   ]
  },
  {
   "cell_type": "code",
   "execution_count": null,
   "outputs": [],
   "source": [],
   "metadata": {
    "collapsed": false
   },
   "id": "c495ace7dcc8fe62"
  }
 ],
 "metadata": {
  "kernelspec": {
   "display_name": "Python 3 (ipykernel)",
   "language": "python",
   "name": "python3"
  },
  "language_info": {
   "codemirror_mode": {
    "name": "ipython",
    "version": 3
   },
   "file_extension": ".py",
   "mimetype": "text/x-python",
   "name": "python",
   "nbconvert_exporter": "python",
   "pygments_lexer": "ipython3",
   "version": "3.10.9"
  }
 },
 "nbformat": 4,
 "nbformat_minor": 5
}
